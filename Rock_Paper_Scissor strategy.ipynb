{
 "cells": [
  {
   "cell_type": "markdown",
   "id": "a7985c1d-ee81-4eab-93ae-4ea985969928",
   "metadata": {},
   "source": [
    "# Rock Paper Scissor strategy"
   ]
  },
  {
   "cell_type": "markdown",
   "id": "6a9bd888-c929-427d-9305-848b38b406f4",
   "metadata": {},
   "source": [
    "Some strategy in playing RPS vs opponent that have some sort of tendency/favor a choice"
   ]
  },
  {
   "cell_type": "markdown",
   "id": "fe52933f-d61b-4c57-bf86-cc493309e858",
   "metadata": {
    "tags": []
   },
   "source": [
    "# 1. Both play completely random"
   ]
  },
  {
   "cell_type": "code",
   "execution_count": 2,
   "id": "98cda0e3-56f5-46bd-9e5e-dd1274e703de",
   "metadata": {},
   "outputs": [],
   "source": [
    "import numpy as np, pandas as pd, seaborn as sns, matplotlib.pyplot as plt\n",
    "import random"
   ]
  },
  {
   "cell_type": "code",
   "execution_count": 24,
   "id": "9323da75-d3a5-4284-93f1-0c8d61fda95b",
   "metadata": {},
   "outputs": [],
   "source": [
    "def player(weights=(1,1,1)):\n",
    "    # weights = [rock, paper, scis]\n",
    "    # choices ('rock', 'paper', 'scissor') = 1,2,3\n",
    "    return random.choices((1,2,3), weights)[0]"
   ]
  },
  {
   "cell_type": "code",
   "execution_count": 25,
   "id": "b5808c22-87aa-48e7-8628-9af7b7c2602e",
   "metadata": {},
   "outputs": [],
   "source": [
    "def opponent(weights=(1,1,1)):\n",
    "    # weights = [rock, paper, scis]\n",
    "    # choices ('rock', 'paper', 'scissor') = 1,2,3\n",
    "    return random.choices((1,2,3), weights)[0]"
   ]
  },
  {
   "cell_type": "code",
   "execution_count": 37,
   "id": "c2ce385f-1015-431d-84b2-c46b490a4802",
   "metadata": {},
   "outputs": [],
   "source": [
    "def num_to_pick(number):\n",
    "    return ['rock', 'paper', 'scissor'][number-1]"
   ]
  },
  {
   "cell_type": "markdown",
   "id": "d720c5f5-1d01-4266-a3f9-449ad082f3c7",
   "metadata": {},
   "source": [
    "The reason for player/opponent pick is a number instead of string is to avoid a lot of and/or clause to determine who win.\n",
    "\n",
    "If player/opponent's pick returns a string like 'rock', 'paper', 'scissor', The code would look like:\n",
    "\n",
    "`if player/opponent same choice -> draw`\n",
    "\n",
    "`elif player_rock and opponent_paper OR player_paper and opponent scissor OR player_scissor and opponent_rock -> lose`\n",
    "\n",
    "`else win`\n",
    "\n",
    "on top of that, opperating on comparing string is low"
   ]
  },
  {
   "cell_type": "code",
   "execution_count": 112,
   "id": "4945a9a7-c7d8-4d74-b6ea-0002bb96273d",
   "metadata": {},
   "outputs": [],
   "source": [
    "# if map choice to int:\n",
    "# rock = 1, paper = 2, scissor = 3\n",
    "\n",
    "# each play is player_choice - opponent_choice\n",
    "\n",
    "# lose scenario: player_choice - opponent_choice in (-1,2):\n",
    "### rock - paper = 1-2 = -1\n",
    "### paper - scis = 2-3 = -1\n",
    "### scis - rock  = 3-1 = 2\n",
    "\n",
    "# win scenario: player_choice - opponent_choice in (1,-2)\n",
    "### rock - scis = 1-3 = -2\n",
    "### paper - roc = 2-1 = 1\n",
    "### scis - papr = 3-2 = 1\n",
    "\n",
    "# else Draw\n",
    "\n",
    "# storing int to df is more memory efficient (and faster?)"
   ]
  },
  {
   "cell_type": "code",
   "execution_count": 114,
   "id": "22d79f03-9940-4c19-bbc9-78fd51069a43",
   "metadata": {},
   "outputs": [],
   "source": [
    "def play(player_choice, opponent_choice):\n",
    "    versus = player_choice - opponent_choice\n",
    "    # print(f'{num_to_pick(player_choice)} vs {num_to_pick(opponent_choice)}')\n",
    "    if versus in (-1,2):\n",
    "        # print('Lose')\n",
    "        return player_choice, opponent_choice, -1\n",
    "    elif versus in (-2,1):\n",
    "        # print('Win')\n",
    "        return player_choice, opponent_choice, 1\n",
    "    else:\n",
    "        # print('Draw')\n",
    "        return player_choice, opponent_choice, 0"
   ]
  },
  {
   "cell_type": "code",
   "execution_count": 106,
   "id": "54a4e520-1b16-48fa-81b4-e68ed59a6f29",
   "metadata": {},
   "outputs": [
    {
     "data": {
      "text/plain": [
       "('scissor', 'rock', -1)"
      ]
     },
     "execution_count": 106,
     "metadata": {},
     "output_type": "execute_result"
    }
   ],
   "source": [
    "play(player(), opponent())"
   ]
  },
  {
   "cell_type": "code",
   "execution_count": 140,
   "id": "7e31233e-7686-454c-bda9-d458988fed8f",
   "metadata": {},
   "outputs": [],
   "source": [
    "def play_n_times(times):\n",
    "    results = pd.DataFrame(columns=['Player', 'Opponent', 'Result'], dtype = np.int8)\n",
    "\n",
    "    for i in range(times):\n",
    "        turn = play(player(), opponent())\n",
    "        newturn = pd.DataFrame({'Player': [turn[0]], 'Opponent': [turn[1]], 'Result': [turn[2]]})\n",
    "        results = pd.concat([results, newturn], axis=0, ignore_index=True)\n",
    "\n",
    "    # Convert to text\n",
    "    results.Player = results.Player.apply(lambda x: num_to_pick(x))\n",
    "    results.Opponent = results.Opponent.apply(lambda x: num_to_pick(x))\n",
    "    return results"
   ]
  },
  {
   "cell_type": "code",
   "execution_count": 142,
   "id": "603be24f-aa4e-42ca-aebd-5213c39f8375",
   "metadata": {},
   "outputs": [
    {
     "name": "stdout",
     "output_type": "stream",
     "text": [
      "CPU times: total: 53.5 s\n",
      "Wall time: 1min 1s\n"
     ]
    }
   ],
   "source": [
    "%%time\n",
    "result = play_n_times(100_000)"
   ]
  },
  {
   "cell_type": "code",
   "execution_count": 143,
   "id": "6c67d22f-ce41-4c45-831b-ea7649525f6f",
   "metadata": {},
   "outputs": [
    {
     "data": {
      "text/plain": [
       "-1    0.33436\n",
       " 0    0.33303\n",
       " 1    0.33261\n",
       "Name: Result, dtype: float64"
      ]
     },
     "execution_count": 143,
     "metadata": {},
     "output_type": "execute_result"
    }
   ],
   "source": [
    "result.Result.value_counts(normalize=True)"
   ]
  },
  {
   "cell_type": "markdown",
   "id": "dc8e1911-2444-4279-bdf2-b801da9fba60",
   "metadata": {
    "tags": []
   },
   "source": [
    "# 2. Opponent has a favorite pick, player is oblivious and play at random"
   ]
  },
  {
   "cell_type": "code",
   "execution_count": 1,
   "id": "9ce1558a-4fb1-4e16-ab92-7cae61eddbbc",
   "metadata": {},
   "outputs": [],
   "source": [
    "import numpy as np, pandas as pd, seaborn as sns, matplotlib.pyplot as plt\n",
    "import random"
   ]
  },
  {
   "cell_type": "code",
   "execution_count": 2,
   "id": "6ce10495-bb19-4e2f-81e7-634ef82fe5ac",
   "metadata": {},
   "outputs": [],
   "source": [
    "def player(weights=(1,1,1)):\n",
    "    # weights = [rock, paper, scis]\n",
    "    # choices ('rock', 'paper', 'scissor') = 1,2,3\n",
    "    return random.choices((1,2,3), weights)[0]"
   ]
  },
  {
   "cell_type": "code",
   "execution_count": 3,
   "id": "855e61c7-e96b-4650-aef4-151fce6010fa",
   "metadata": {},
   "outputs": [],
   "source": [
    "def opponent(weights=(1,1,1)):\n",
    "    # weights = [rock, paper, scis]\n",
    "    # choices ('rock', 'paper', 'scissor') = 1,2,3\n",
    "    return random.choices((1,2,3), weights)[0]"
   ]
  },
  {
   "cell_type": "code",
   "execution_count": 4,
   "id": "63107c1f-03e1-42dd-a134-d171eb65ee3d",
   "metadata": {},
   "outputs": [],
   "source": [
    "def num_to_pick(number):\n",
    "    return ['rock', 'paper', 'scissor'][number-1]"
   ]
  },
  {
   "cell_type": "code",
   "execution_count": 5,
   "id": "c284aba7-3ffa-47a8-8988-fe94ed4909cc",
   "metadata": {},
   "outputs": [],
   "source": [
    "def play(player_choice, opponent_choice):\n",
    "    versus = player_choice - opponent_choice\n",
    "    # print(f'{num_to_pick(player_choice)} vs {num_to_pick(opponent_choice)}')\n",
    "    if versus in (-1,2):\n",
    "        # print('Lose')\n",
    "        return player_choice, opponent_choice, -1\n",
    "    elif versus in (-2,1):\n",
    "        # print('Win')\n",
    "        return player_choice, opponent_choice, 1\n",
    "    else:\n",
    "        # print('Draw')\n",
    "        return player_choice, opponent_choice, 0"
   ]
  },
  {
   "cell_type": "code",
   "execution_count": 6,
   "id": "bb78c6dd-ac83-4503-83be-52b727360b8b",
   "metadata": {},
   "outputs": [],
   "source": [
    "def play_n_times(times):\n",
    "    results = pd.DataFrame(columns=['Player', 'Opponent', 'Result'], dtype = np.int8)\n",
    "\n",
    "    for i in range(times):\n",
    "                              # opponent  prefer rock than others\n",
    "        turn = play(player(), opponent((1,.1,.1)))\n",
    "        newturn = pd.DataFrame({'Player': [turn[0]], 'Opponent': [turn[1]], 'Result': [turn[2]]})\n",
    "        results = pd.concat([results, newturn], axis=0, ignore_index=True)\n",
    "\n",
    "    # Convert to text\n",
    "    results.Player = results.Player.apply(lambda x: num_to_pick(x))\n",
    "    results.Opponent = results.Opponent.apply(lambda x: num_to_pick(x))\n",
    "    return results"
   ]
  },
  {
   "cell_type": "code",
   "execution_count": 7,
   "id": "00c53e3d-c46c-4638-b0d2-1b94aa5952e5",
   "metadata": {},
   "outputs": [
    {
     "name": "stdout",
     "output_type": "stream",
     "text": [
      "CPU times: total: 93.8 ms\n",
      "Wall time: 111 ms\n"
     ]
    }
   ],
   "source": [
    "%%time\n",
    "result = play_n_times(10_000)"
   ]
  },
  {
   "cell_type": "code",
   "execution_count": 17,
   "id": "29261580-98d1-433f-b25d-eab35caf932c",
   "metadata": {},
   "outputs": [
    {
     "data": {
      "text/plain": [
       "scissor    3391\n",
       "paper      3328\n",
       "rock       3281\n",
       "Name: Player, dtype: int64"
      ]
     },
     "execution_count": 17,
     "metadata": {},
     "output_type": "execute_result"
    }
   ],
   "source": [
    "result.Player.value_counts()"
   ]
  },
  {
   "cell_type": "code",
   "execution_count": 18,
   "id": "d25aa8d0-b0ec-4765-ba06-0e8f494db5ec",
   "metadata": {},
   "outputs": [
    {
     "data": {
      "text/plain": [
       "rock       8384\n",
       "scissor     827\n",
       "paper       789\n",
       "Name: Opponent, dtype: int64"
      ]
     },
     "execution_count": 18,
     "metadata": {},
     "output_type": "execute_result"
    }
   ],
   "source": [
    "result.Opponent.value_counts()"
   ]
  },
  {
   "cell_type": "code",
   "execution_count": 19,
   "id": "c73aa950-03e2-48e8-ada3-89cf7bab6022",
   "metadata": {},
   "outputs": [
    {
     "data": {
      "text/plain": [
       "-1    0.3369\n",
       " 0    0.3344\n",
       " 1    0.3287\n",
       "Name: Result, dtype: float64"
      ]
     },
     "execution_count": 19,
     "metadata": {},
     "output_type": "execute_result"
    }
   ],
   "source": [
    "result.Result.value_counts(normalize=True)"
   ]
  },
  {
   "cell_type": "markdown",
   "id": "d689bf80-6045-4ea4-a628-df6e530fbc18",
   "metadata": {},
   "source": [
    "Doesn't matter what opponent prefer, if player picks at random, win/lose/draw ratio will be equal."
   ]
  },
  {
   "cell_type": "code",
   "execution_count": null,
   "id": "ef306531-b970-409d-9bb7-3447f4265cd3",
   "metadata": {},
   "outputs": [],
   "source": []
  },
  {
   "cell_type": "code",
   "execution_count": null,
   "id": "d8826882-c8ae-423e-9da5-8e88d4325228",
   "metadata": {},
   "outputs": [],
   "source": []
  },
  {
   "cell_type": "code",
   "execution_count": null,
   "id": "9ae64ea8-e2aa-4420-b253-91266761b00b",
   "metadata": {},
   "outputs": [],
   "source": []
  },
  {
   "cell_type": "markdown",
   "id": "92e19f1e-160e-4fbe-acb3-254a9c99e8d8",
   "metadata": {
    "tags": []
   },
   "source": [
    "# 3. Player adapts, pick the option with the highest net win in the last 15 turns\n",
    "\n",
    "- Opponent slightly favors a choice than the others\n",
    "- Player suspects opponent does favor a choice and not random, but does not know what that favored choice is.\n",
    "- Player look back at the last X turns, pick the option that resulted in highest net wins.\n",
    "> (Note that this is different from the choice that WOULD HAVE resulted in highest net wins).\n",
    "\n",
    "- Net win of a choice = (times pick CHOICE and win) - (times pick CHOICE and lose)\n",
    "\n",
    "> for eg, in the last 15 turns, pick rock 8 times, won 5 times, lost 3 times => net win = 2\n",
    "\n",
    "> (for now, avoid divide by sum of total picks to not have to deal with divide by 0)"
   ]
  },
  {
   "cell_type": "code",
   "execution_count": 35,
   "id": "640c84c7-3ad5-4e8f-8959-372c88954458",
   "metadata": {},
   "outputs": [],
   "source": [
    "import numpy as np, pandas as pd, seaborn as sns, matplotlib.pyplot as plt\n",
    "import random\n",
    "from tqdm.notebook import tqdm"
   ]
  },
  {
   "cell_type": "code",
   "execution_count": 36,
   "id": "953fa9d6-1f93-48a9-8700-47298783c826",
   "metadata": {},
   "outputs": [],
   "source": [
    "def player(weights=(1,1,1)):\n",
    "    # weights = [rock, paper, scis]\n",
    "    # choices ('rock', 'paper', 'scissor') = 1,2,3\n",
    "    return random.choices((1,2,3), weights)[0]"
   ]
  },
  {
   "cell_type": "code",
   "execution_count": 37,
   "id": "0a349d84-9bc1-4455-a320-94a3b3821c9b",
   "metadata": {},
   "outputs": [],
   "source": [
    "def opponent(weights=(1,1,1)):\n",
    "    # weights = [rock, paper, scis]\n",
    "    # choices ('rock', 'paper', 'scissor') = 1,2,3\n",
    "    return random.choices((1,2,3), weights)[0]"
   ]
  },
  {
   "cell_type": "code",
   "execution_count": 38,
   "id": "97d535b3-4c89-4369-a1d7-ade650e4f9d3",
   "metadata": {},
   "outputs": [],
   "source": [
    "def num_to_pick(number):\n",
    "    return ['rock', 'paper', 'scissor'][number-1]"
   ]
  },
  {
   "cell_type": "code",
   "execution_count": 39,
   "id": "8661d494-1b0b-496f-8782-01439ad71789",
   "metadata": {},
   "outputs": [],
   "source": [
    "def play(player_choice, opponent_choice):\n",
    "    versus = player_choice - opponent_choice\n",
    "    # print(f'{num_to_pick(player_choice)} vs {num_to_pick(opponent_choice)}')\n",
    "    if versus in (-1,2):\n",
    "        # print('Lose')\n",
    "        return player_choice, opponent_choice, -1\n",
    "    elif versus in (-2,1):\n",
    "        # print('Win')\n",
    "        return player_choice, opponent_choice, 1\n",
    "    else:\n",
    "        # print('Draw')\n",
    "        return player_choice, opponent_choice, 0"
   ]
  },
  {
   "cell_type": "code",
   "execution_count": 40,
   "id": "271ef82c-866e-4e77-916b-621efa32390f",
   "metadata": {},
   "outputs": [],
   "source": [
    "def play_n_times(times, rounds_before_adapting = 15, opponent_weights = (1,1,1)):\n",
    "    results = pd.DataFrame(columns=['Player', 'Opponent', 'Result'], dtype = np.int8)\n",
    "    \n",
    "    # first X rounds_before_adapting, random:\n",
    "    for i in range(rounds_before_adapting):\n",
    "                              # opponent  prefer rock than others\n",
    "        turn = play(player(), opponent(opponent_weights))\n",
    "        newturn = pd.DataFrame({'Player': [turn[0]], 'Opponent': [turn[1]], 'Result': [turn[2]]})\n",
    "        results = pd.concat([results, newturn], axis=0, ignore_index=True)\n",
    "    \n",
    "    # starting from round rounds_before_adapting, begin strategy:\n",
    "    for i in np.arange(rounds_before_adapting, times):\n",
    "        # calculate weights from previous x round\n",
    "        # groupby would not work if lacking value\n",
    "        # weights = results.iloc[-rounds_before_adapting:].groupby('Player').sum()['Result']\n",
    "        # weights = (weights - weights.min() + 0.1).tolist()\n",
    "        last_x_turns = results.iloc[-rounds_before_adapting:]\n",
    "        \n",
    "        rock_weight = last_x_turns.Result[last_x_turns.Player == 1].sum()\n",
    "        paper_weight = last_x_turns.Result[last_x_turns.Player == 2].sum()\n",
    "        scissor_weight = last_x_turns.Result[last_x_turns.Player == 3].sum()\n",
    "        # min normalization + add small adjusting constant to avoid converge to 0 for draw-choice\n",
    "        rock_weight = rock_weight - min([rock_weight, paper_weight, scissor_weight])+.1\n",
    "        paper_weight = paper_weight - min([rock_weight, paper_weight, scissor_weight])+.1\n",
    "        scissor_weight = scissor_weight - min([rock_weight, paper_weight, scissor_weight])+.1\n",
    "        \n",
    "        weights = [rock_weight, paper_weight, scissor_weight]\n",
    "        try:\n",
    "        # play next round with adjusted weights\n",
    "            turn = play(player(weights), opponent(opponent_weights))\n",
    "        except ValueError:\n",
    "            print(results.iloc[-15:].groupby('Player').sum()['Result'])\n",
    "        newturn = pd.DataFrame({'Player': [turn[0]], 'Opponent': [turn[1]], 'Result': [turn[2]]})\n",
    "        results = pd.concat([results, newturn], axis=0, ignore_index=True)\n",
    "    \n",
    "    # Convert to text\n",
    "    results.Player = results.Player.apply(lambda x: num_to_pick(x))\n",
    "    results.Opponent = results.Opponent.apply(lambda x: num_to_pick(x))\n",
    "    return results"
   ]
  },
  {
   "cell_type": "code",
   "execution_count": 7,
   "id": "5e9275bb-f4ed-4a15-bc93-77efd26e9a31",
   "metadata": {},
   "outputs": [
    {
     "data": {
      "application/vnd.jupyter.widget-view+json": {
       "model_id": "e390d9860c3a49fcae4124fa4221c3f2",
       "version_major": 2,
       "version_minor": 0
      },
      "text/plain": [
       "  0%|          | 0/100 [00:00<?, ?it/s]"
      ]
     },
     "metadata": {},
     "output_type": "display_data"
    },
    {
     "name": "stdout",
     "output_type": "stream",
     "text": [
      "CPU times: total: 1min 39s\n",
      "Wall time: 1min 52s\n"
     ]
    }
   ],
   "source": [
    "%%time\n",
    "# repeat the experiment 100 times, each time play 1000 rounds\n",
    "games = 100\n",
    "rounds_per_game = 1000\n",
    "\n",
    "net_wins = []\n",
    "for experiment_n in tqdm(np.arange(0,games)):\n",
    "    result = play_n_times(rounds_per_game, rounds_before_adapting = 15, opponent_weights = (4,3,3))\n",
    "    net_wins.append(result.Result.sum())"
   ]
  },
  {
   "cell_type": "code",
   "execution_count": 8,
   "id": "37b82257-46b9-42a6-864d-54286672eed0",
   "metadata": {},
   "outputs": [
    {
     "data": {
      "text/plain": [
       "28.54"
      ]
     },
     "execution_count": 8,
     "metadata": {},
     "output_type": "execute_result"
    }
   ],
   "source": [
    "np.mean(net_wins)"
   ]
  },
  {
   "cell_type": "markdown",
   "id": "cef38d61-7e31-45d6-b4a8-287f76b438af",
   "metadata": {},
   "source": [
    "Remember the last 15 turns and adjust weights by net win => mean 28.84 net wins after 1000 round"
   ]
  },
  {
   "cell_type": "markdown",
   "id": "a96d5d2c-7c0b-4283-9702-684e82240f05",
   "metadata": {},
   "source": [
    "**Square the weights**"
   ]
  },
  {
   "cell_type": "code",
   "execution_count": 41,
   "id": "19ccee21-98db-44d5-a814-a27eac86e5ce",
   "metadata": {},
   "outputs": [],
   "source": [
    "def play_n_times(times, rounds_before_adapting = 15, opponent_weights = (1,1,1)):\n",
    "    results = pd.DataFrame(columns=['Player', 'Opponent', 'Result'], dtype = np.int8)\n",
    "    \n",
    "    # first X rounds_before_adapting, random:\n",
    "    for i in range(rounds_before_adapting):\n",
    "                              # opponent  prefer rock than others\n",
    "        turn = play(player(), opponent(opponent_weights))\n",
    "        newturn = pd.DataFrame({'Player': [turn[0]], 'Opponent': [turn[1]], 'Result': [turn[2]]})\n",
    "        results = pd.concat([results, newturn], axis=0, ignore_index=True)\n",
    "    \n",
    "    # starting from round rounds_before_adapting, begin strategy:\n",
    "    for i in np.arange(rounds_before_adapting, times):\n",
    "        # calculate weights from previous x round\n",
    "        last_x_turns = results.iloc[-rounds_before_adapting:]\n",
    "        rock_weight = last_x_turns.Result[last_x_turns.Player == 1].sum()\n",
    "        paper_weight = last_x_turns.Result[last_x_turns.Player == 2].sum()\n",
    "        scissor_weight = last_x_turns.Result[last_x_turns.Player == 3].sum()\n",
    "        # min normalization + add small adjusting constant to avoid converge to 0 for draw-choice\n",
    "        rock_weight = rock_weight - min([rock_weight, paper_weight, scissor_weight])+.1\n",
    "        paper_weight = paper_weight - min([rock_weight, paper_weight, scissor_weight])+.1\n",
    "        scissor_weight = scissor_weight - min([rock_weight, paper_weight, scissor_weight])+.1\n",
    "        # SQUARE THE weights\n",
    "        weights = [rock_weight**2, paper_weight**2, scissor_weight**2]\n",
    "        try:\n",
    "        # play next round with adjusted weights\n",
    "            turn = play(player(weights), opponent(opponent_weights))\n",
    "        except ValueError:\n",
    "            print(results.iloc[-15:].groupby('Player').sum()['Result'])\n",
    "        newturn = pd.DataFrame({'Player': [turn[0]], 'Opponent': [turn[1]], 'Result': [turn[2]]})\n",
    "        results = pd.concat([results, newturn], axis=0, ignore_index=True)\n",
    "    \n",
    "    # Convert to text\n",
    "    results.Player = results.Player.apply(lambda x: num_to_pick(x))\n",
    "    results.Opponent = results.Opponent.apply(lambda x: num_to_pick(x))\n",
    "    return results, weights"
   ]
  },
  {
   "cell_type": "code",
   "execution_count": 44,
   "id": "0a355c2e-76a2-4c65-a099-37eb8ab1a289",
   "metadata": {},
   "outputs": [
    {
     "data": {
      "application/vnd.jupyter.widget-view+json": {
       "model_id": "7310fcebf472438d8ba0ca457a2255c6",
       "version_major": 2,
       "version_minor": 0
      },
      "text/plain": [
       "  0%|          | 0/25 [00:00<?, ?it/s]"
      ]
     },
     "metadata": {},
     "output_type": "display_data"
    },
    {
     "name": "stdout",
     "output_type": "stream",
     "text": [
      "CPU times: total: 24.9 s\n",
      "Wall time: 28.4 s\n"
     ]
    }
   ],
   "source": [
    "%%time\n",
    "# repeat the experiment 100 times, each time play 1000 rounds\n",
    "games = 25\n",
    "rounds_per_game = 1000\n",
    "\n",
    "net_wins = []\n",
    "weight_list = []\n",
    "\n",
    "for experiment_n in tqdm(np.arange(0,games)):\n",
    "    result, weights = play_n_times(rounds_per_game, rounds_before_adapting = 15, opponent_weights = (4,3,3))\n",
    "    net_wins.append(result.Result.sum())\n",
    "    weight_list.append(weights)"
   ]
  },
  {
   "cell_type": "code",
   "execution_count": 45,
   "id": "ad2b20ef-8e10-4948-acae-63ccabcc07ce",
   "metadata": {},
   "outputs": [
    {
     "data": {
      "text/plain": [
       "36.12"
      ]
     },
     "execution_count": 45,
     "metadata": {},
     "output_type": "execute_result"
    }
   ],
   "source": [
    "np.mean(net_wins)"
   ]
  },
  {
   "cell_type": "code",
   "execution_count": 46,
   "id": "bcd30945-fbea-4879-ad5f-9e61489d0cf3",
   "metadata": {},
   "outputs": [
    {
     "data": {
      "text/plain": [
       "[[0.010000000000000002, 16.81, 0.010000000000000002],\n",
       " [4.41, 0.010000000000000002, 0.010000000000000002],\n",
       " [0.010000000000000002, 4.41, 0.010000000000000002],\n",
       " [0.010000000000000002, 26.009999999999998, 0.010000000000000002],\n",
       " [0.010000000000000002, 50.41, 0.010000000000000002],\n",
       " [1.2100000000000002, 0.010000000000000002, 0.010000000000000002],\n",
       " [16.81, 0.010000000000000002, 1.0],\n",
       " [0.010000000000000002, 37.209999999999994, 0.010000000000000002],\n",
       " [4.41, 16.81, 0.010000000000000002],\n",
       " [0.010000000000000002, 1.2100000000000002, 0.010000000000000002],\n",
       " [1.2100000000000002, 0.010000000000000002, 0.010000000000000002],\n",
       " [16.81, 0.010000000000000002, 0.010000000000000002],\n",
       " [0.010000000000000002, 0.010000000000000002, 0.010000000000000002],\n",
       " [0.010000000000000002, 37.209999999999994, 0.010000000000000002],\n",
       " [1.2100000000000002, 4.41, 0.010000000000000002],\n",
       " [0.010000000000000002, 0.010000000000000002, 1.0],\n",
       " [1.2100000000000002, 0.010000000000000002, 0.010000000000000002],\n",
       " [0.010000000000000002, 50.41, 0.010000000000000002],\n",
       " [0.010000000000000002, 9.610000000000001, 0.010000000000000002],\n",
       " [0.010000000000000002, 9.610000000000001, 0.010000000000000002],\n",
       " [0.010000000000000002, 0.010000000000000002, 0.010000000000000002],\n",
       " [0.010000000000000002, 9.610000000000001, 0.010000000000000002],\n",
       " [9.610000000000001, 0.010000000000000002, 0.010000000000000002],\n",
       " [0.010000000000000002, 1.2100000000000002, 0.010000000000000002],\n",
       " [0.010000000000000002, 0.010000000000000002, 0.010000000000000002]]"
      ]
     },
     "execution_count": 46,
     "metadata": {},
     "output_type": "execute_result"
    }
   ],
   "source": [
    "weight_list"
   ]
  },
  {
   "cell_type": "markdown",
   "id": "53c4cbd0-e33e-4298-be76-3cd8cddf3114",
   "metadata": {},
   "source": [
    "Squaring the weights resulted in slightly higher mean net wins after 1000 round."
   ]
  },
  {
   "cell_type": "markdown",
   "id": "68a41b23-6992-41e5-9008-0fa6f9956001",
   "metadata": {},
   "source": [
    "# Before explore different strategy, see if there are ways to run multiple experiments at the same time"
   ]
  },
  {
   "cell_type": "code",
   "execution_count": 7,
   "id": "34886bbe-2fe9-42e7-a729-63dfd6876ab0",
   "metadata": {},
   "outputs": [],
   "source": [
    "import numpy as np, pandas as pd, seaborn as sns, matplotlib.pyplot as plt\n",
    "import random\n",
    "from tqdm.notebook import tqdm\n",
    "import warnings\n",
    "warnings.simplefilter(action='ignore', category=pd.errors.PerformanceWarning)\n"
   ]
  },
  {
   "cell_type": "code",
   "execution_count": 8,
   "id": "bfa8eeb8-255f-4299-8a84-4895707d1471",
   "metadata": {},
   "outputs": [],
   "source": [
    "def play(versus):\n",
    "    # print(f'{num_to_pick(player_choice)} vs {num_to_pick(opponent_choice)}')\n",
    "    if versus in (-1,2):\n",
    "        # print('Lose')\n",
    "        return -1\n",
    "    elif versus in (-2,1):\n",
    "        # print('Win')\n",
    "        return 1\n",
    "    else:\n",
    "        # print('Draw')\n",
    "        return 0"
   ]
  },
  {
   "cell_type": "code",
   "execution_count": 9,
   "id": "9c615627-1e36-4aa0-b285-6b9de4c0012c",
   "metadata": {},
   "outputs": [],
   "source": [
    "#apply to a dataframe of 3 columns, 1,2,3 = choice for rock, paper, scissor\n",
    "def make_choice(row):\n",
    "    weights = row.values\n",
    "    return np.random.choice([1,2,3], p=weights)"
   ]
  },
  {
   "cell_type": "code",
   "execution_count": 10,
   "id": "a1ed1e4a-665b-4831-99c3-1408790beafa",
   "metadata": {},
   "outputs": [],
   "source": [
    "# normalize weights df\n",
    "def normalize(weights_df):\n",
    "    weights_df = weights_df.apply(lambda x: x/weights_df.sum(axis=1))\n",
    "    return weights_df"
   ]
  },
  {
   "cell_type": "code",
   "execution_count": 11,
   "id": "da61ed3b-c080-4260-af82-108c0c9e9ea7",
   "metadata": {},
   "outputs": [],
   "source": [
    "# show summary stats of players\n",
    "def show_choices(player_df):\n",
    "    total_choices = player_df.shape[0]*player_df.shape[1]\n",
    "    print(f'Rock: {(player_df==1).sum().sum()}, {(player_df==1).sum().sum() / total_choices:.2f}')\n",
    "    print(f'Paper: {(player_df==2).sum().sum()}, {(player_df==2).sum().sum() / total_choices:.2f}')\n",
    "    print(f'Scissor: {(player_df==3).sum().sum()}, {(player_df==3).sum().sum() / total_choices:.2f}')"
   ]
  },
  {
   "cell_type": "code",
   "execution_count": 12,
   "id": "df4077c2-0a42-44f9-b186-14d4d791d2a6",
   "metadata": {},
   "outputs": [],
   "source": [
    "# main functions for running games x rounds\n",
    "def play_n_times(games, rounds_per_game, rounds_before_adapting, \n",
    "                 player_weights_initial = [1,1,1], \n",
    "                 opponent_weights_initial = [1,1,1]):\n",
    "    # games: the number of rows of dataframes\n",
    "    # rounds_per_games: columns\n",
    "    player = pd.DataFrame()\n",
    "    player_weights = normalize(pd.DataFrame(np.tile(player_weights_initial, (games, 1))))\n",
    "    opponent = pd.DataFrame()\n",
    "    opponent_weights = normalize(pd.DataFrame(np.tile(opponent_weights_initial, (games, 1))))\n",
    "\n",
    "    results = pd.DataFrame()\n",
    "    \n",
    "    # before adapting\n",
    "    for round_th in range(0, rounds_before_adapting): \n",
    "        # player choices\n",
    "        player['round'+str(round_th)] = player_weights.apply(make_choice, axis=1)\n",
    "        # opponent choices\n",
    "        opponent['round'+str(round_th)] = opponent_weights.apply(make_choice, axis=1)\n",
    "        # calculate, apply result mapping\n",
    "        results['round'+str(round_th)] = (player['round'+str(round_th)] - opponent['round'+str(round_th)])\\\n",
    "        .apply(lambda x: play(x))\n",
    "        \n",
    "    # start adapting\n",
    "    for round_th in tqdm(range(rounds_before_adapting, rounds_per_game)):\n",
    "        # calculate weights from previous round\n",
    "        current_weights = pd.DataFrame({\n",
    "            'w1': results.iloc[:,-rounds_before_adapting:][player==1].sum(axis=1),\n",
    "            'w2': results.iloc[:,-rounds_before_adapting:][player==2].sum(axis=1),\n",
    "            'w3': results.iloc[:,-rounds_before_adapting:][player==3].sum(axis=1),\n",
    "        })\n",
    "        # eliminate negative + add small constant\n",
    "        current_weights = current_weights.apply(lambda x: x-current_weights.min(axis=1)+0.1)\n",
    "        # square\n",
    "        current_weights = current_weights**2\n",
    "        # normalize\n",
    "        current_weights = normalize(current_weights)\n",
    "        \n",
    "        # player make choice base on current weights\n",
    "        player['round'+str(round_th)] = current_weights.apply(make_choice, axis=1)\n",
    "        # opponent choices\n",
    "        opponent['round'+str(round_th)] = opponent_weights.apply(make_choice, axis=1)\n",
    "         # calculate, apply result mapping\n",
    "        results['round'+str(round_th)] = (player['round'+str(round_th)] - opponent['round'+str(round_th)])\\\n",
    "        .apply(lambda x: play(x))\n",
    "        \n",
    "    return player, opponent, results\n"
   ]
  },
  {
   "cell_type": "code",
   "execution_count": 13,
   "id": "d4c184fc-00c2-4800-8f91-03ce46b397f3",
   "metadata": {},
   "outputs": [
    {
     "data": {
      "application/vnd.jupyter.widget-view+json": {
       "model_id": "bf62971304784863a5c251226bd0c0b3",
       "version_major": 2,
       "version_minor": 0
      },
      "text/plain": [
       "  0%|          | 0/985 [00:00<?, ?it/s]"
      ]
     },
     "metadata": {},
     "output_type": "display_data"
    },
    {
     "name": "stdout",
     "output_type": "stream",
     "text": [
      "CPU times: total: 41.9 s\n",
      "Wall time: 50.7 s\n"
     ]
    }
   ],
   "source": [
    "%%time\n",
    "# repeat the experiment 100 times, each time play 1000 rounds like last time\n",
    "# last time: Wall time: 1min 48s\n",
    "# new code: Wall time: 50.7 s, more than 2x faster\n",
    "\n",
    "player, opponent, results = play_n_times(games = 100, rounds_per_game=1000, \n",
    "                                         rounds_before_adapting = 15,\n",
    "                                         opponent_weights_initial = [4,3,3]\n",
    "                                         )"
   ]
  },
  {
   "cell_type": "code",
   "execution_count": 33,
   "id": "432cf289-2af0-4099-bbf7-219484a767ec",
   "metadata": {},
   "outputs": [
    {
     "data": {
      "text/plain": [
       "27.99"
      ]
     },
     "execution_count": 33,
     "metadata": {},
     "output_type": "execute_result"
    }
   ],
   "source": [
    "results.sum(axis=1).mean()"
   ]
  },
  {
   "cell_type": "code",
   "execution_count": 28,
   "id": "a7949d7b-9067-4565-9d98-4a9ae1efa390",
   "metadata": {},
   "outputs": [
    {
     "name": "stdout",
     "output_type": "stream",
     "text": [
      "Rock: 30879, 0.31\n",
      "Paper: 46858, 0.47\n",
      "Scissor: 22263, 0.22\n"
     ]
    }
   ],
   "source": [
    "show_choices(player)"
   ]
  },
  {
   "cell_type": "code",
   "execution_count": 27,
   "id": "566e8b2a-e3a4-4cf1-a03b-15e3f9b91c6d",
   "metadata": {},
   "outputs": [
    {
     "name": "stdout",
     "output_type": "stream",
     "text": [
      "Rock: 40123, 0.40\n",
      "Paper: 29771, 0.30\n",
      "Scissor: 30106, 0.30\n"
     ]
    }
   ],
   "source": [
    "show_choices(opponent)"
   ]
  },
  {
   "cell_type": "markdown",
   "id": "2d4881cd-a0eb-46d7-9ecf-38e0c54ac59a",
   "metadata": {},
   "source": [
    "Double the games:"
   ]
  },
  {
   "cell_type": "code",
   "execution_count": 34,
   "id": "eed7cb86-b683-4471-9006-23a0d062de2f",
   "metadata": {},
   "outputs": [
    {
     "data": {
      "application/vnd.jupyter.widget-view+json": {
       "model_id": "4442371d9cc9428282335a7d6243eca1",
       "version_major": 2,
       "version_minor": 0
      },
      "text/plain": [
       "  0%|          | 0/985 [00:00<?, ?it/s]"
      ]
     },
     "metadata": {},
     "output_type": "display_data"
    },
    {
     "name": "stdout",
     "output_type": "stream",
     "text": [
      "CPU times: total: 46.8 s\n",
      "Wall time: 59.2 s\n"
     ]
    }
   ],
   "source": [
    "%%time\n",
    "# repeat the experiment 200 times, each time play 1000 rounds\n",
    "# Wall time: 59.2 s, barely increase from 100 times\n",
    "\n",
    "player, opponent, results = play_n_times(games = 200, rounds_per_game=1000, \n",
    "                                         rounds_before_adapting = 15,\n",
    "                                         opponent_weights_initial = [4,3,3]\n",
    "                                         )"
   ]
  },
  {
   "cell_type": "code",
   "execution_count": 35,
   "id": "6dccf3c5-def3-4fb7-95f6-20a046ca8331",
   "metadata": {},
   "outputs": [
    {
     "data": {
      "text/plain": [
       "25.25"
      ]
     },
     "execution_count": 35,
     "metadata": {},
     "output_type": "execute_result"
    }
   ],
   "source": [
    "results.sum(axis=1).mean()"
   ]
  },
  {
   "cell_type": "code",
   "execution_count": 36,
   "id": "ce691231-6cae-4ca0-b245-21a3ae77958d",
   "metadata": {},
   "outputs": [
    {
     "name": "stdout",
     "output_type": "stream",
     "text": [
      "Rock: 63092, 0.32\n",
      "Paper: 91686, 0.46\n",
      "Scissor: 45222, 0.23\n"
     ]
    }
   ],
   "source": [
    "show_choices(player)"
   ]
  },
  {
   "cell_type": "code",
   "execution_count": 37,
   "id": "24e4c7b6-8a60-43f5-9256-c4ad93bea74f",
   "metadata": {},
   "outputs": [
    {
     "name": "stdout",
     "output_type": "stream",
     "text": [
      "Rock: 79880, 0.40\n",
      "Paper: 60001, 0.30\n",
      "Scissor: 60119, 0.30\n"
     ]
    }
   ],
   "source": [
    "show_choices(opponent)"
   ]
  },
  {
   "cell_type": "markdown",
   "id": "ea544958-dfb5-4dcb-9d58-7eeaaada0801",
   "metadata": {},
   "source": [
    "# 4. Player adapts based on opponent:\n",
    "\n",
    "- Opponent slightly favors a choice than the others\n",
    "- Player suspects opponent does favor a choice and not random, but does not know what that favored choice is.\n",
    "- Player look back at the last X rounds made by opponent, pick the option that WOULD HAVE resulted in highest net wins.\n",
    "\n",
    "eg: In the last 15 rounds, opponent:\n",
    "- picked rock 7 times, paper 5 times, scissor 3 times:\n",
    ">=> prioritize paper(beat rock): 7, scissor(beat paper): 5, rock (beat scissor): 3\n",
    "\n"
   ]
  },
  {
   "cell_type": "code",
   "execution_count": 1,
   "id": "59aa5eaf-6628-4a84-a743-d1aac1490a5e",
   "metadata": {},
   "outputs": [],
   "source": [
    "import numpy as np, pandas as pd, seaborn as sns, matplotlib.pyplot as plt\n",
    "import random\n",
    "from tqdm.notebook import tqdm\n",
    "import warnings\n",
    "warnings.simplefilter(action='ignore', category=pd.errors.PerformanceWarning)\n"
   ]
  },
  {
   "cell_type": "code",
   "execution_count": 2,
   "id": "561831ab-7330-4e8a-9b42-20254a40113c",
   "metadata": {},
   "outputs": [],
   "source": [
    "def play(versus):\n",
    "    # print(f'{num_to_pick(player_choice)} vs {num_to_pick(opponent_choice)}')\n",
    "    if versus in (-1,2):\n",
    "        # print('Lose')\n",
    "        return -1\n",
    "    elif versus in (-2,1):\n",
    "        # print('Win')\n",
    "        return 1\n",
    "    else:\n",
    "        # print('Draw')\n",
    "        return 0"
   ]
  },
  {
   "cell_type": "code",
   "execution_count": 3,
   "id": "461112c6-9263-4b7e-8c8d-e57fd3c71632",
   "metadata": {},
   "outputs": [],
   "source": [
    "#apply to a dataframe of 3 columns, 1,2,3 = choice for rock, paper, scissor\n",
    "def make_choice(row):\n",
    "    weights = row.values\n",
    "    return np.random.choice([1,2,3], p=weights)"
   ]
  },
  {
   "cell_type": "code",
   "execution_count": 4,
   "id": "d4abf2d5-1ccf-4c67-82b7-f0b25aa3bd02",
   "metadata": {},
   "outputs": [],
   "source": [
    "# normalize weights df\n",
    "def normalize(weights_df):\n",
    "    weights_df = weights_df.apply(lambda x: x/weights_df.sum(axis=1))\n",
    "    return weights_df"
   ]
  },
  {
   "cell_type": "code",
   "execution_count": 60,
   "id": "45ec2eb1-8421-42a9-9e1e-37b014c92623",
   "metadata": {},
   "outputs": [],
   "source": [
    "# show summary stats of players\n",
    "def show_choices(player_df):\n",
    "    total_choices = player_df.shape[0]*player_df.shape[1]\n",
    "    print(f'- Rock: {(player_df==1).sum().sum()}, {(player_df==1).sum().sum() / total_choices:.2f}')\n",
    "    print(f'- Paper: {(player_df==2).sum().sum()}, {(player_df==2).sum().sum() / total_choices:.2f}')\n",
    "    print(f'- Scissor: {(player_df==3).sum().sum()}, {(player_df==3).sum().sum() / total_choices:.2f}')"
   ]
  },
  {
   "cell_type": "code",
   "execution_count": 59,
   "id": "88064ae5-3399-4953-b7f4-fcf8087ea65a",
   "metadata": {},
   "outputs": [],
   "source": [
    "# main functions for running games x rounds\n",
    "def play_n_times(games, rounds_per_game, rounds_before_adapting, \n",
    "                 player_weights_initial = [1,1,1], \n",
    "                 opponent_weights_initial = [1,1,1]):\n",
    "    # games: the number of rows of dataframes\n",
    "    # rounds_per_games: columns\n",
    "    player = pd.DataFrame()\n",
    "    player_weights = normalize(pd.DataFrame(np.tile(player_weights_initial, (games, 1))))\n",
    "    opponent = pd.DataFrame()\n",
    "    opponent_weights = normalize(pd.DataFrame(np.tile(opponent_weights_initial, (games, 1))))\n",
    "\n",
    "    results = pd.DataFrame()\n",
    "    \n",
    "    # before adapting\n",
    "    for round_th in range(0, rounds_before_adapting): \n",
    "        # player choices\n",
    "        player['round'+str(round_th)] = player_weights.apply(make_choice, axis=1)\n",
    "        # opponent choices\n",
    "        opponent['round'+str(round_th)] = opponent_weights.apply(make_choice, axis=1)\n",
    "        # calculate, apply result mapping\n",
    "        results['round'+str(round_th)] = (player['round'+str(round_th)] - opponent['round'+str(round_th)])\\\n",
    "        .apply(lambda x: play(x))\n",
    "        \n",
    "    # start adapting\n",
    "    for round_th in tqdm(range(rounds_before_adapting, rounds_per_game)):\n",
    "        # calculate weights from previous round\n",
    "        current_weights = pd.DataFrame({\n",
    "            'w1': (opponent.iloc[:,-rounds_before_adapting:]==3).sum(axis=1),\n",
    "            'w2': (opponent.iloc[:,-rounds_before_adapting:]==1).sum(axis=1),\n",
    "            'w3': (opponent.iloc[:,-rounds_before_adapting:]==2).sum(axis=1),\n",
    "        })\n",
    "        # eliminate negative + add small constant\n",
    "        current_weights = current_weights.apply(lambda x: x-current_weights.min(axis=1)+0.1)\n",
    "        # square\n",
    "        current_weights = current_weights**2\n",
    "        # normalize\n",
    "        current_weights = normalize(current_weights)\n",
    "        \n",
    "        # player make choice base on current weights\n",
    "        player['round'+str(round_th)] = current_weights.apply(make_choice, axis=1)\n",
    "        # opponent choices\n",
    "        opponent['round'+str(round_th)] = opponent_weights.apply(make_choice, axis=1)\n",
    "         # calculate, apply result mapping\n",
    "        results['round'+str(round_th)] = (player['round'+str(round_th)] - opponent['round'+str(round_th)])\\\n",
    "        .apply(lambda x: play(x))\n",
    "    \n",
    "    print(f'Average net wins after {rounds_per_game} rounds in {games} games:')\n",
    "    print(results.sum(axis=1).mean())\n",
    "    print('-'*50)\n",
    "    print('Player\\'s choices:')\n",
    "    show_choices(player)\n",
    "    print('-'*50)\n",
    "    print('Opponent\\'s choices:')\n",
    "    show_choices(opponent)\n",
    "    print('-'*50)\n",
    "    return player, opponent, results"
   ]
  },
  {
   "cell_type": "code",
   "execution_count": 61,
   "id": "d30ab819-063c-4a53-90ac-74d1a4f22602",
   "metadata": {},
   "outputs": [
    {
     "data": {
      "application/vnd.jupyter.widget-view+json": {
       "model_id": "6cac33cbbf374d959870f7553ce5d699",
       "version_major": 2,
       "version_minor": 0
      },
      "text/plain": [
       "  0%|          | 0/985 [00:00<?, ?it/s]"
      ]
     },
     "metadata": {},
     "output_type": "display_data"
    },
    {
     "name": "stdout",
     "output_type": "stream",
     "text": [
      "Average net wins after 1000 rounds in 100 games:\n",
      "26.96\n",
      "--------------------------------------------------\n",
      "Player's choices:\n",
      "- Rock: 25076, 0.25\n",
      "- Paper: 50227, 0.50\n",
      "- Scissor: 24697, 0.25\n",
      "--------------------------------------------------\n",
      "Opponent's choices:\n",
      "- Rock: 40066, 0.40\n",
      "- Paper: 29852, 0.30\n",
      "- Scissor: 30082, 0.30\n",
      "--------------------------------------------------\n",
      "CPU times: total: 13 s\n",
      "Wall time: 16.5 s\n"
     ]
    }
   ],
   "source": [
    "%%time\n",
    "player, opponent, results = play_n_times(games = 100, rounds_per_game=1000, \n",
    "                                         rounds_before_adapting = 15,\n",
    "                                         opponent_weights_initial = [4,3,3]\n",
    "                                         )"
   ]
  },
  {
   "cell_type": "markdown",
   "id": "383b4cbc-7366-48ef-bc6d-c343c8117bd4",
   "metadata": {},
   "source": [
    "Remember last 20 picks instead of 15:"
   ]
  },
  {
   "cell_type": "code",
   "execution_count": 62,
   "id": "23d498e4-675a-403e-b30d-62813ea0113b",
   "metadata": {},
   "outputs": [
    {
     "data": {
      "application/vnd.jupyter.widget-view+json": {
       "model_id": "9a81b8fa02a34c30b42aad352e5b5041",
       "version_major": 2,
       "version_minor": 0
      },
      "text/plain": [
       "  0%|          | 0/980 [00:00<?, ?it/s]"
      ]
     },
     "metadata": {},
     "output_type": "display_data"
    },
    {
     "name": "stdout",
     "output_type": "stream",
     "text": [
      "Average net wins after 1000 rounds in 100 games:\n",
      "31.75\n",
      "--------------------------------------------------\n",
      "Player's choices:\n",
      "- Rock: 23745, 0.24\n",
      "- Paper: 52936, 0.53\n",
      "- Scissor: 23319, 0.23\n",
      "--------------------------------------------------\n",
      "Opponent's choices:\n",
      "- Rock: 40085, 0.40\n",
      "- Paper: 29905, 0.30\n",
      "- Scissor: 30010, 0.30\n",
      "--------------------------------------------------\n",
      "CPU times: total: 13.5 s\n",
      "Wall time: 17.1 s\n"
     ]
    }
   ],
   "source": [
    "%%time\n",
    "player, opponent, results = play_n_times(games = 100, rounds_per_game=1000, \n",
    "                                         rounds_before_adapting = 20,\n",
    "                                         opponent_weights_initial = [4,3,3]\n",
    "                                         )"
   ]
  },
  {
   "cell_type": "markdown",
   "id": "f3d95807-50c0-472a-b938-a2ff42699d65",
   "metadata": {},
   "source": [
    "Consider opponent had a most favorite choice and least favorite choice"
   ]
  },
  {
   "cell_type": "code",
   "execution_count": 63,
   "id": "382d5512-4333-4359-9f5d-d6d5b52d57cc",
   "metadata": {},
   "outputs": [
    {
     "data": {
      "application/vnd.jupyter.widget-view+json": {
       "model_id": "fe70dfd4b02e4c049d267b382d466ff0",
       "version_major": 2,
       "version_minor": 0
      },
      "text/plain": [
       "  0%|          | 0/980 [00:00<?, ?it/s]"
      ]
     },
     "metadata": {},
     "output_type": "display_data"
    },
    {
     "name": "stdout",
     "output_type": "stream",
     "text": [
      "Average net wins after 1000 rounds in 100 games:\n",
      "93.67\n",
      "--------------------------------------------------\n",
      "Player's choices:\n",
      "- Rock: 8058, 0.08\n",
      "- Paper: 62039, 0.62\n",
      "- Scissor: 29903, 0.30\n",
      "--------------------------------------------------\n",
      "Opponent's choices:\n",
      "- Rock: 44541, 0.45\n",
      "- Paper: 33249, 0.33\n",
      "- Scissor: 22210, 0.22\n",
      "--------------------------------------------------\n",
      "CPU times: total: 13.4 s\n",
      "Wall time: 17.2 s\n"
     ]
    }
   ],
   "source": [
    "%%time\n",
    "player, opponent, results = play_n_times(games = 100, rounds_per_game=1000, \n",
    "                                         rounds_before_adapting = 20,\n",
    "                                         opponent_weights_initial = [4,3,2]\n",
    "                                         )"
   ]
  },
  {
   "cell_type": "markdown",
   "id": "5100c9ba-5690-4c2f-a075-692ae25a18d6",
   "metadata": {},
   "source": [
    "Reduce the disparity in the percentage"
   ]
  },
  {
   "cell_type": "code",
   "execution_count": 64,
   "id": "5ed0893e-91bc-4f73-aa93-84f4334acb38",
   "metadata": {},
   "outputs": [
    {
     "data": {
      "application/vnd.jupyter.widget-view+json": {
       "model_id": "da09a90547184457b2ddee4a43e741a3",
       "version_major": 2,
       "version_minor": 0
      },
      "text/plain": [
       "  0%|          | 0/980 [00:00<?, ?it/s]"
      ]
     },
     "metadata": {},
     "output_type": "display_data"
    },
    {
     "name": "stdout",
     "output_type": "stream",
     "text": [
      "Average net wins after 1000 rounds in 100 games:\n",
      "5.52\n",
      "--------------------------------------------------\n",
      "Player's choices:\n",
      "- Rock: 26577, 0.27\n",
      "- Paper: 39440, 0.39\n",
      "- Scissor: 33983, 0.34\n",
      "--------------------------------------------------\n",
      "Opponent's choices:\n",
      "- Rock: 35486, 0.35\n",
      "- Paper: 33589, 0.34\n",
      "- Scissor: 30925, 0.31\n",
      "--------------------------------------------------\n",
      "CPU times: total: 13.7 s\n",
      "Wall time: 17.1 s\n"
     ]
    }
   ],
   "source": [
    "%%time\n",
    "player, opponent, results = play_n_times(games = 100, rounds_per_game=1000, \n",
    "                                         rounds_before_adapting = 20,\n",
    "                                         opponent_weights_initial = [3.5,3.3,3.1]\n",
    "                                         )"
   ]
  }
 ],
 "metadata": {
  "kernelspec": {
   "display_name": "Python 3 (ipykernel)",
   "language": "python",
   "name": "python3"
  },
  "language_info": {
   "codemirror_mode": {
    "name": "ipython",
    "version": 3
   },
   "file_extension": ".py",
   "mimetype": "text/x-python",
   "name": "python",
   "nbconvert_exporter": "python",
   "pygments_lexer": "ipython3",
   "version": "3.9.15"
  }
 },
 "nbformat": 4,
 "nbformat_minor": 5
}
